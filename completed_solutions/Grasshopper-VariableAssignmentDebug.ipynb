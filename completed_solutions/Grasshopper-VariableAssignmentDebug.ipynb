
# Corrija as atribuições das variáveis a e b para que este código armazene a string 'devLab' na variável

a = "dev"
b = "Lab"

name = a + b
